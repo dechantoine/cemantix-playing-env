{
 "cells": [
  {
   "cell_type": "code",
   "execution_count": 1,
   "id": "83a654b6-46a9-44ad-8290-e7272daf37f7",
   "metadata": {},
   "outputs": [],
   "source": [
    "import pandas as pd\n",
    "import numpy as np\n",
    "import json\n",
    "\n",
    "from cemantix_game import play_cemantix\n",
    "\n",
    "from gensim.models import KeyedVectors"
   ]
  },
  {
   "cell_type": "markdown",
   "id": "76c77b3d-aad3-4e79-ac09-517849f9d268",
   "metadata": {
    "tags": []
   },
   "source": [
    "# Models"
   ]
  },
  {
   "cell_type": "markdown",
   "id": "552cf188-00d3-40af-84d6-e7825b755e4b",
   "metadata": {},
   "source": [
    "## DummyModel"
   ]
  },
  {
   "cell_type": "code",
   "execution_count": 2,
   "id": "20c92e40-9748-40b2-a1b8-b19f54af99fd",
   "metadata": {},
   "outputs": [],
   "source": [
    "from dummymodel import DummyModel"
   ]
  },
  {
   "cell_type": "code",
   "execution_count": 3,
   "id": "3b32e41f-4834-478a-924c-a9cb921f0753",
   "metadata": {},
   "outputs": [],
   "source": [
    "model_name = \"frWiki_no_phrase_no_postag_700_cbow_cut100\"\n",
    "\n",
    "model_word2vec = KeyedVectors.load_word2vec_format(\"./models/{}/{}.bin\".format(model_name, model_name), binary=True, unicode_errors=\"ignore\")"
   ]
  },
  {
   "cell_type": "code",
   "execution_count": 4,
   "id": "16e20b7c-fed2-4138-a5c7-84df58c52d72",
   "metadata": {},
   "outputs": [],
   "source": [
    "with open(\"./models/{}/params_{}.json\".format(model_name, \"cosine_similarity\")) as fp:\n",
    "        params_model = json.load(fp)"
   ]
  },
  {
   "cell_type": "code",
   "execution_count": 5,
   "id": "d77b782d-46cd-4fc7-a9f8-a7e1a6f3129c",
   "metadata": {},
   "outputs": [
    {
     "data": {
      "text/plain": [
       "{'name': 'frWiki_no_phrase_no_postag_700_cbow_cut100',\n",
       " 'stdScaler': {'mean': 0.006429591914251011, 'scale': 0.04398508294623643},\n",
       " 'mmScaler': {'min': -12.460803031921387, 'max': 22.588825225830078}}"
      ]
     },
     "execution_count": 5,
     "metadata": {},
     "output_type": "execute_result"
    }
   ],
   "source": [
    "params_model"
   ]
  },
  {
   "cell_type": "code",
   "execution_count": 6,
   "id": "258c5ea6-7569-4973-86aa-2dc638e30ce2",
   "metadata": {},
   "outputs": [],
   "source": [
    "dummy = DummyModel(model = model_word2vec)"
   ]
  },
  {
   "cell_type": "code",
   "execution_count": 7,
   "id": "aea80822-9704-4e88-8720-1bde0d132092",
   "metadata": {},
   "outputs": [],
   "source": [
    "game = play_cemantix(strategy=dummy, resume=None, max_turn=5)"
   ]
  },
  {
   "cell_type": "code",
   "execution_count": 8,
   "id": "3fe9043a-f6da-4bcd-aa68-8cea081ee6dc",
   "metadata": {},
   "outputs": [
    {
     "data": {
      "text/html": [
       "<div>\n",
       "<style scoped>\n",
       "    .dataframe tbody tr th:only-of-type {\n",
       "        vertical-align: middle;\n",
       "    }\n",
       "\n",
       "    .dataframe tbody tr th {\n",
       "        vertical-align: top;\n",
       "    }\n",
       "\n",
       "    .dataframe thead th {\n",
       "        text-align: right;\n",
       "    }\n",
       "</style>\n",
       "<table border=\"1\" class=\"dataframe\">\n",
       "  <thead>\n",
       "    <tr style=\"text-align: right;\">\n",
       "      <th></th>\n",
       "      <th>word</th>\n",
       "      <th>score_cemantix</th>\n",
       "    </tr>\n",
       "  </thead>\n",
       "  <tbody>\n",
       "    <tr>\n",
       "      <th>0</th>\n",
       "      <td>la</td>\n",
       "      <td>25.42</td>\n",
       "    </tr>\n",
       "    <tr>\n",
       "      <th>1</th>\n",
       "      <td>être</td>\n",
       "      <td>18.36</td>\n",
       "    </tr>\n",
       "    <tr>\n",
       "      <th>2</th>\n",
       "      <td>en</td>\n",
       "      <td>13.74</td>\n",
       "    </tr>\n",
       "    <tr>\n",
       "      <th>3</th>\n",
       "      <td>une</td>\n",
       "      <td>9.58</td>\n",
       "    </tr>\n",
       "    <tr>\n",
       "      <th>4</th>\n",
       "      <td>avoir</td>\n",
       "      <td>22.18</td>\n",
       "    </tr>\n",
       "  </tbody>\n",
       "</table>\n",
       "</div>"
      ],
      "text/plain": [
       "    word  score_cemantix\n",
       "0     la           25.42\n",
       "1   être           18.36\n",
       "2     en           13.74\n",
       "3    une            9.58\n",
       "4  avoir           22.18"
      ]
     },
     "execution_count": 8,
     "metadata": {},
     "output_type": "execute_result"
    }
   ],
   "source": [
    "game"
   ]
  },
  {
   "cell_type": "code",
   "execution_count": 9,
   "id": "f7ee8a93-9e02-4c76-adad-ae02e70562a3",
   "metadata": {},
   "outputs": [],
   "source": [
    "game_resume = play_cemantix(strategy=dummy, resume=game, max_turn=10)"
   ]
  },
  {
   "cell_type": "code",
   "execution_count": 10,
   "id": "43e8632b-8a12-432e-af86-99fba6f8d4c5",
   "metadata": {},
   "outputs": [
    {
     "data": {
      "text/html": [
       "<div>\n",
       "<style scoped>\n",
       "    .dataframe tbody tr th:only-of-type {\n",
       "        vertical-align: middle;\n",
       "    }\n",
       "\n",
       "    .dataframe tbody tr th {\n",
       "        vertical-align: top;\n",
       "    }\n",
       "\n",
       "    .dataframe thead th {\n",
       "        text-align: right;\n",
       "    }\n",
       "</style>\n",
       "<table border=\"1\" class=\"dataframe\">\n",
       "  <thead>\n",
       "    <tr style=\"text-align: right;\">\n",
       "      <th></th>\n",
       "      <th>word</th>\n",
       "      <th>score_cemantix</th>\n",
       "    </tr>\n",
       "  </thead>\n",
       "  <tbody>\n",
       "    <tr>\n",
       "      <th>0</th>\n",
       "      <td>la</td>\n",
       "      <td>25.42</td>\n",
       "    </tr>\n",
       "    <tr>\n",
       "      <th>1</th>\n",
       "      <td>être</td>\n",
       "      <td>18.36</td>\n",
       "    </tr>\n",
       "    <tr>\n",
       "      <th>2</th>\n",
       "      <td>en</td>\n",
       "      <td>13.74</td>\n",
       "    </tr>\n",
       "    <tr>\n",
       "      <th>3</th>\n",
       "      <td>une</td>\n",
       "      <td>9.58</td>\n",
       "    </tr>\n",
       "    <tr>\n",
       "      <th>4</th>\n",
       "      <td>avoir</td>\n",
       "      <td>22.18</td>\n",
       "    </tr>\n",
       "    <tr>\n",
       "      <th>5</th>\n",
       "      <td>il</td>\n",
       "      <td>27.80</td>\n",
       "    </tr>\n",
       "    <tr>\n",
       "      <th>6</th>\n",
       "      <td>par</td>\n",
       "      <td>6.03</td>\n",
       "    </tr>\n",
       "    <tr>\n",
       "      <th>7</th>\n",
       "      <td>catégorie</td>\n",
       "      <td>-10.13</td>\n",
       "    </tr>\n",
       "    <tr>\n",
       "      <th>8</th>\n",
       "      <td>pour</td>\n",
       "      <td>0.68</td>\n",
       "    </tr>\n",
       "    <tr>\n",
       "      <th>9</th>\n",
       "      <td>sur</td>\n",
       "      <td>2.89</td>\n",
       "    </tr>\n",
       "  </tbody>\n",
       "</table>\n",
       "</div>"
      ],
      "text/plain": [
       "        word  score_cemantix\n",
       "0         la           25.42\n",
       "1       être           18.36\n",
       "2         en           13.74\n",
       "3        une            9.58\n",
       "4      avoir           22.18\n",
       "5         il           27.80\n",
       "6        par            6.03\n",
       "7  catégorie          -10.13\n",
       "8       pour            0.68\n",
       "9        sur            2.89"
      ]
     },
     "execution_count": 10,
     "metadata": {},
     "output_type": "execute_result"
    }
   ],
   "source": [
    "game_resume"
   ]
  },
  {
   "cell_type": "markdown",
   "id": "7aa01273-c2fe-4044-8cba-cece5fad2197",
   "metadata": {},
   "source": [
    "## Distances model"
   ]
  },
  {
   "cell_type": "code",
   "execution_count": 11,
   "id": "d8337bf5-78e8-469e-8e2b-ab4bd27cb485",
   "metadata": {},
   "outputs": [],
   "source": [
    "from sklearn.metrics.pairwise import euclidean_distances, cosine_similarity\n",
    "from distancebasedmodel import DistanceBasedModel"
   ]
  },
  {
   "cell_type": "code",
   "execution_count": 20,
   "id": "2eaef082-8b89-4c40-855b-5dd67a621a2e",
   "metadata": {},
   "outputs": [],
   "source": [
    "distance_model = DistanceBasedModel(model = model_word2vec,\n",
    "                                    params = params_model,\n",
    "                                    distance_func = cosine_similarity,\n",
    "                                    gamma = 0.9)"
   ]
  },
  {
   "cell_type": "code",
   "execution_count": null,
   "id": "eaf34a8e-f818-4e60-89e8-8b1185da36ba",
   "metadata": {},
   "outputs": [],
   "source": [
    "game = play_cemantix(strategy=distance_model, resume=None, max_turn=50)"
   ]
  },
  {
   "cell_type": "code",
   "execution_count": null,
   "id": "05fe31be-613f-475b-b9c2-5ac575355b2a",
   "metadata": {},
   "outputs": [],
   "source": [
    "game"
   ]
  },
  {
   "cell_type": "code",
   "execution_count": null,
   "id": "264e0aba-2c8a-429d-955c-08efdc929259",
   "metadata": {},
   "outputs": [],
   "source": []
  }
 ],
 "metadata": {
  "environment": {
   "name": "pytorch-gpu.1-9.m75",
   "type": "gcloud",
   "uri": "gcr.io/deeplearning-platform-release/pytorch-gpu.1-9:m75"
  },
  "kernelspec": {
   "display_name": "Python 3",
   "language": "python",
   "name": "python3"
  },
  "language_info": {
   "codemirror_mode": {
    "name": "ipython",
    "version": 3
   },
   "file_extension": ".py",
   "mimetype": "text/x-python",
   "name": "python",
   "nbconvert_exporter": "python",
   "pygments_lexer": "ipython3",
   "version": "3.7.10"
  }
 },
 "nbformat": 4,
 "nbformat_minor": 5
}
