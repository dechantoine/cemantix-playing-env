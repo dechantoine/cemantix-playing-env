{
 "cells": [
  {
   "cell_type": "code",
   "execution_count": 1,
   "id": "83a654b6-46a9-44ad-8290-e7272daf37f7",
   "metadata": {},
   "outputs": [],
   "source": [
    "import pandas as pd\n",
    "import numpy as np\n",
    "import json\n",
    "\n",
    "from cemantix_game import play_cemantix\n",
    "\n",
    "from gensim.models import KeyedVectors"
   ]
  },
  {
   "cell_type": "markdown",
   "id": "76c77b3d-aad3-4e79-ac09-517849f9d268",
   "metadata": {
    "tags": []
   },
   "source": [
    "# Models"
   ]
  },
  {
   "cell_type": "markdown",
   "id": "552cf188-00d3-40af-84d6-e7825b755e4b",
   "metadata": {},
   "source": [
    "## DummyModel"
   ]
  },
  {
   "cell_type": "code",
   "execution_count": 2,
   "id": "20c92e40-9748-40b2-a1b8-b19f54af99fd",
   "metadata": {},
   "outputs": [],
   "source": [
    "from dummymodel import DummyModel"
   ]
  },
  {
   "cell_type": "code",
   "execution_count": 3,
   "id": "3b32e41f-4834-478a-924c-a9cb921f0753",
   "metadata": {},
   "outputs": [],
   "source": [
    "model_name = \"frWiki_no_phrase_no_postag_700_cbow_cut100\"\n",
    "\n",
    "model_word2vec = KeyedVectors.load_word2vec_format(\"./models/{}/{}.bin\".format(model_name, model_name), binary=True, unicode_errors=\"ignore\")"
   ]
  },
  {
   "cell_type": "code",
   "execution_count": 4,
   "id": "16e20b7c-fed2-4138-a5c7-84df58c52d72",
   "metadata": {},
   "outputs": [],
   "source": [
    "with open(\"./models/{}/params.json\".format(model_name)) as fp:\n",
    "        params_model = json.load(fp)"
   ]
  },
  {
   "cell_type": "code",
   "execution_count": 5,
   "id": "d77b782d-46cd-4fc7-a9f8-a7e1a6f3129c",
   "metadata": {},
   "outputs": [
    {
     "data": {
      "text/plain": [
       "{'name': 'frWiki_no_phrase_no_postag_700_cbow_cut100',\n",
       " 'stdScaler': {'mean': 22.940645080734072, 'scale': 2.82355588003816},\n",
       " 'mmScaler': {'min': -8.124735832214355, 'max': 13.903473854064941}}"
      ]
     },
     "execution_count": 5,
     "metadata": {},
     "output_type": "execute_result"
    }
   ],
   "source": [
    "params_model"
   ]
  },
  {
   "cell_type": "code",
   "execution_count": 6,
   "id": "258c5ea6-7569-4973-86aa-2dc638e30ce2",
   "metadata": {},
   "outputs": [],
   "source": [
    "dummy = DummyModel(model = model_word2vec)"
   ]
  },
  {
   "cell_type": "code",
   "execution_count": 7,
   "id": "aea80822-9704-4e88-8720-1bde0d132092",
   "metadata": {},
   "outputs": [],
   "source": [
    "game = play_cemantix(strategy=dummy, resume=None, max_turn=5)"
   ]
  },
  {
   "cell_type": "code",
   "execution_count": 8,
   "id": "3fe9043a-f6da-4bcd-aa68-8cea081ee6dc",
   "metadata": {},
   "outputs": [
    {
     "data": {
      "text/html": [
       "<div>\n",
       "<style scoped>\n",
       "    .dataframe tbody tr th:only-of-type {\n",
       "        vertical-align: middle;\n",
       "    }\n",
       "\n",
       "    .dataframe tbody tr th {\n",
       "        vertical-align: top;\n",
       "    }\n",
       "\n",
       "    .dataframe thead th {\n",
       "        text-align: right;\n",
       "    }\n",
       "</style>\n",
       "<table border=\"1\" class=\"dataframe\">\n",
       "  <thead>\n",
       "    <tr style=\"text-align: right;\">\n",
       "      <th></th>\n",
       "      <th>word</th>\n",
       "      <th>score_cemantix</th>\n",
       "    </tr>\n",
       "  </thead>\n",
       "  <tbody>\n",
       "    <tr>\n",
       "      <th>0</th>\n",
       "      <td>la</td>\n",
       "      <td>15.84</td>\n",
       "    </tr>\n",
       "    <tr>\n",
       "      <th>1</th>\n",
       "      <td>être</td>\n",
       "      <td>17.15</td>\n",
       "    </tr>\n",
       "    <tr>\n",
       "      <th>2</th>\n",
       "      <td>en</td>\n",
       "      <td>8.17</td>\n",
       "    </tr>\n",
       "    <tr>\n",
       "      <th>3</th>\n",
       "      <td>une</td>\n",
       "      <td>2.73</td>\n",
       "    </tr>\n",
       "    <tr>\n",
       "      <th>4</th>\n",
       "      <td>avoir</td>\n",
       "      <td>18.46</td>\n",
       "    </tr>\n",
       "  </tbody>\n",
       "</table>\n",
       "</div>"
      ],
      "text/plain": [
       "    word  score_cemantix\n",
       "0     la           15.84\n",
       "1   être           17.15\n",
       "2     en            8.17\n",
       "3    une            2.73\n",
       "4  avoir           18.46"
      ]
     },
     "execution_count": 8,
     "metadata": {},
     "output_type": "execute_result"
    }
   ],
   "source": [
    "game"
   ]
  },
  {
   "cell_type": "code",
   "execution_count": 9,
   "id": "f7ee8a93-9e02-4c76-adad-ae02e70562a3",
   "metadata": {},
   "outputs": [],
   "source": [
    "game_resume = play_cemantix(strategy=dummy, resume=game, max_turn=10)"
   ]
  },
  {
   "cell_type": "code",
   "execution_count": 10,
   "id": "43e8632b-8a12-432e-af86-99fba6f8d4c5",
   "metadata": {},
   "outputs": [
    {
     "data": {
      "text/html": [
       "<div>\n",
       "<style scoped>\n",
       "    .dataframe tbody tr th:only-of-type {\n",
       "        vertical-align: middle;\n",
       "    }\n",
       "\n",
       "    .dataframe tbody tr th {\n",
       "        vertical-align: top;\n",
       "    }\n",
       "\n",
       "    .dataframe thead th {\n",
       "        text-align: right;\n",
       "    }\n",
       "</style>\n",
       "<table border=\"1\" class=\"dataframe\">\n",
       "  <thead>\n",
       "    <tr style=\"text-align: right;\">\n",
       "      <th></th>\n",
       "      <th>word</th>\n",
       "      <th>score_cemantix</th>\n",
       "    </tr>\n",
       "  </thead>\n",
       "  <tbody>\n",
       "    <tr>\n",
       "      <th>0</th>\n",
       "      <td>la</td>\n",
       "      <td>15.84</td>\n",
       "    </tr>\n",
       "    <tr>\n",
       "      <th>1</th>\n",
       "      <td>être</td>\n",
       "      <td>17.15</td>\n",
       "    </tr>\n",
       "    <tr>\n",
       "      <th>2</th>\n",
       "      <td>en</td>\n",
       "      <td>8.17</td>\n",
       "    </tr>\n",
       "    <tr>\n",
       "      <th>3</th>\n",
       "      <td>une</td>\n",
       "      <td>2.73</td>\n",
       "    </tr>\n",
       "    <tr>\n",
       "      <th>4</th>\n",
       "      <td>avoir</td>\n",
       "      <td>18.46</td>\n",
       "    </tr>\n",
       "    <tr>\n",
       "      <th>5</th>\n",
       "      <td>il</td>\n",
       "      <td>21.63</td>\n",
       "    </tr>\n",
       "    <tr>\n",
       "      <th>6</th>\n",
       "      <td>par</td>\n",
       "      <td>6.00</td>\n",
       "    </tr>\n",
       "    <tr>\n",
       "      <th>7</th>\n",
       "      <td>catégorie</td>\n",
       "      <td>-4.69</td>\n",
       "    </tr>\n",
       "    <tr>\n",
       "      <th>8</th>\n",
       "      <td>pour</td>\n",
       "      <td>3.77</td>\n",
       "    </tr>\n",
       "    <tr>\n",
       "      <th>9</th>\n",
       "      <td>sur</td>\n",
       "      <td>0.51</td>\n",
       "    </tr>\n",
       "  </tbody>\n",
       "</table>\n",
       "</div>"
      ],
      "text/plain": [
       "        word  score_cemantix\n",
       "0         la           15.84\n",
       "1       être           17.15\n",
       "2         en            8.17\n",
       "3        une            2.73\n",
       "4      avoir           18.46\n",
       "5         il           21.63\n",
       "6        par            6.00\n",
       "7  catégorie           -4.69\n",
       "8       pour            3.77\n",
       "9        sur            0.51"
      ]
     },
     "execution_count": 10,
     "metadata": {},
     "output_type": "execute_result"
    }
   ],
   "source": [
    "game_resume"
   ]
  },
  {
   "cell_type": "markdown",
   "id": "7aa01273-c2fe-4044-8cba-cece5fad2197",
   "metadata": {},
   "source": [
    "## Distances model"
   ]
  },
  {
   "cell_type": "code",
   "execution_count": 11,
   "id": "d8337bf5-78e8-469e-8e2b-ab4bd27cb485",
   "metadata": {},
   "outputs": [],
   "source": [
    "from sklearn.metrics.pairwise import euclidean_distances\n",
    "from distancebasedmodel import DistanceBasedModel"
   ]
  },
  {
   "cell_type": "code",
   "execution_count": 12,
   "id": "2eaef082-8b89-4c40-855b-5dd67a621a2e",
   "metadata": {},
   "outputs": [],
   "source": [
    "distance_model = DistanceBasedModel(model = model_word2vec,\n",
    "                                    params = params_model,\n",
    "                                    distance_func = euclidean_distances,\n",
    "                                    gamma = 0.99)"
   ]
  },
  {
   "cell_type": "code",
   "execution_count": 13,
   "id": "eaf34a8e-f818-4e60-89e8-8b1185da36ba",
   "metadata": {},
   "outputs": [],
   "source": [
    "game = play_cemantix(strategy=distance_model, resume=None, max_turn=10)"
   ]
  },
  {
   "cell_type": "code",
   "execution_count": 15,
   "id": "2822d83f-d973-43e4-96c8-946c57802522",
   "metadata": {},
   "outputs": [
    {
     "data": {
      "text/html": [
       "<div>\n",
       "<style scoped>\n",
       "    .dataframe tbody tr th:only-of-type {\n",
       "        vertical-align: middle;\n",
       "    }\n",
       "\n",
       "    .dataframe tbody tr th {\n",
       "        vertical-align: top;\n",
       "    }\n",
       "\n",
       "    .dataframe thead th {\n",
       "        text-align: right;\n",
       "    }\n",
       "</style>\n",
       "<table border=\"1\" class=\"dataframe\">\n",
       "  <thead>\n",
       "    <tr style=\"text-align: right;\">\n",
       "      <th></th>\n",
       "      <th>word</th>\n",
       "      <th>score_cemantix</th>\n",
       "      <th>score_inversed</th>\n",
       "    </tr>\n",
       "  </thead>\n",
       "  <tbody>\n",
       "    <tr>\n",
       "      <th>0</th>\n",
       "      <td>la</td>\n",
       "      <td>15.84</td>\n",
       "      <td>26.172868</td>\n",
       "    </tr>\n",
       "    <tr>\n",
       "      <th>1</th>\n",
       "      <td>fleurissement</td>\n",
       "      <td>-12.47</td>\n",
       "      <td>34.976978</td>\n",
       "    </tr>\n",
       "    <tr>\n",
       "      <th>2</th>\n",
       "      <td>incolore</td>\n",
       "      <td>0.53</td>\n",
       "      <td>30.934116</td>\n",
       "    </tr>\n",
       "    <tr>\n",
       "      <th>3</th>\n",
       "      <td>immatriculation</td>\n",
       "      <td>1.01</td>\n",
       "      <td>30.784841</td>\n",
       "    </tr>\n",
       "    <tr>\n",
       "      <th>4</th>\n",
       "      <td>hétérocyclique</td>\n",
       "      <td>-7.35</td>\n",
       "      <td>33.384712</td>\n",
       "    </tr>\n",
       "    <tr>\n",
       "      <th>5</th>\n",
       "      <td>torpille</td>\n",
       "      <td>13.95</td>\n",
       "      <td>26.760638</td>\n",
       "    </tr>\n",
       "    <tr>\n",
       "      <th>6</th>\n",
       "      <td>sonar</td>\n",
       "      <td>4.41</td>\n",
       "      <td>29.727477</td>\n",
       "    </tr>\n",
       "    <tr>\n",
       "      <th>7</th>\n",
       "      <td>propulsion</td>\n",
       "      <td>11.67</td>\n",
       "      <td>27.469694</td>\n",
       "    </tr>\n",
       "    <tr>\n",
       "      <th>8</th>\n",
       "      <td>blindage</td>\n",
       "      <td>12.01</td>\n",
       "      <td>27.363957</td>\n",
       "    </tr>\n",
       "  </tbody>\n",
       "</table>\n",
       "</div>"
      ],
      "text/plain": [
       "              word score_cemantix score_inversed\n",
       "0               la          15.84      26.172868\n",
       "1    fleurissement         -12.47      34.976978\n",
       "2         incolore           0.53      30.934116\n",
       "3  immatriculation           1.01      30.784841\n",
       "4   hétérocyclique          -7.35      33.384712\n",
       "5         torpille          13.95      26.760638\n",
       "6            sonar           4.41      29.727477\n",
       "7       propulsion          11.67      27.469694\n",
       "8         blindage          12.01      27.363957"
      ]
     },
     "execution_count": 15,
     "metadata": {},
     "output_type": "execute_result"
    }
   ],
   "source": [
    "distance_model.df_game"
   ]
  }
 ],
 "metadata": {
  "environment": {
   "name": "pytorch-gpu.1-9.m75",
   "type": "gcloud",
   "uri": "gcr.io/deeplearning-platform-release/pytorch-gpu.1-9:m75"
  },
  "kernelspec": {
   "display_name": "Python 3",
   "language": "python",
   "name": "python3"
  },
  "language_info": {
   "codemirror_mode": {
    "name": "ipython",
    "version": 3
   },
   "file_extension": ".py",
   "mimetype": "text/x-python",
   "name": "python",
   "nbconvert_exporter": "python",
   "pygments_lexer": "ipython3",
   "version": "3.7.10"
  }
 },
 "nbformat": 4,
 "nbformat_minor": 5
}
